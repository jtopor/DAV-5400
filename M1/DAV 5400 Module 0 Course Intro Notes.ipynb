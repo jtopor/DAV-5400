{
 "cells": [
  {
   "cell_type": "markdown",
   "metadata": {},
   "source": [
    "<br>\n",
    "<br>\n",
    "<br>\n",
    "<br>\n",
    "\n",
    "# DAV 5400 Analytics Programming\n",
    "\n",
    "# Getting Started\n",
    "<br>\n",
    "<br>\n",
    "<br>"
   ]
  },
  {
   "cell_type": "markdown",
   "metadata": {},
   "source": [
    "## About Your Instructor\n",
    "\n",
    "   __James Topor__ (james.topor@yu.edu)\n",
    "\n",
    "### Professional Background\n",
    "\n",
    "- Management Consulting, Structured Finance, Real Estate Private Equity\n",
    "\n",
    "\n",
    "- Systems Integration + Application Development, Project/Program Management, Financial Modeling, Predictive Modeling, Machine Vision, Business Development / Consultative Selling, etc.\n",
    "    \n",
    "    \n",
    "- Have worked with firms in Financial Services, Pharmaceutical, Manufacturing, Consumer Products, and Telecom sectors throughout North America, Europe, Asia, Australia\n",
    "    \n",
    "### Educational Background\n",
    "\n",
    "- M.S. Data Analytics\n",
    "    \n",
    "    \n",
    "- M.B.A. International Business (specialization in Finance)\n",
    "    \n",
    "    \n",
    "- M.S. Computer Science (research in Machine Vision)\n",
    "  \n",
    "  \n",
    "- B.S. Computer Science + Minors in Mathematics & Business Administration\n",
    "  \n",
    "  \n",
    "### Experience With Computer Languages + Analytics\n",
    "\n",
    "\n",
    "- Python, R, C, C++, LISP, Assembler, and many others\n",
    "\n",
    "\n",
    "-  Predictive Modeling (C, C++, R, Python), Neural Networks, Simulation Modeling, Financial Modeling (Excel), etc.\n",
    "\n",
    "\n",
    "### Spoken Languages\n",
    "\n",
    "\n",
    "- Fluent in English + Spanish\n"
   ]
  },
  {
   "cell_type": "markdown",
   "metadata": {},
   "source": [
    "\n",
    "\n",
    "## What is the Life Cycle of a Typical Data Science Project?\n",
    "\n",
    "NOTE: The graphic showning the life cycle of a typical data science project can be found via the following web link:\n",
    "\n",
    "https://r4ds.had.co.nz/introduction.html\n",
    "\n",
    "__Step 1__: Acquire the data you believe will help you answer the question(s) you have\n",
    "\n",
    "__Step 2__: \"Cleanse\" your data of extraneous content (aka \"data tidying\")\n",
    "\n",
    "__Step 3__: Transform the data into a format / structure that is appropriate for the problem at hand (aka \"data wrangling\")\n",
    "\n",
    "__Step 4__: Create visualizations to help you understand the data better\n",
    "\n",
    "__Step 5__: Build models (e.g., predictive models, neural networks, etc.) that help answer your orignal questions.\n",
    "\n",
    "__Step 6__: Repeat Steps 3 - 5 as necessary\n",
    "\n",
    "__Step 7__: Communicate your findings\n",
    "\n",
    "\n",
    "\"Guesstimates\" indicate that __up to 80% of an analytics professional's time is spent on Steps 1-3__\n",
    "\n",
    "\n",
    "- This class is primarily focused on the __acquisition, cleansing, and transformation of data (Steps 1-3)__\n",
    "\n",
    "\n",
    "- Exploratory Data Analysis (EDA) methods, including proper EDA visualizations, are introducted beginning in Module 5.\n",
    "\n",
    "\n",
    "- Modeling + Machine Learning concepts are introduced in Week 12\n"
   ]
  },
  {
   "cell_type": "markdown",
   "metadata": {},
   "source": [
    "## Building Your Environment\n",
    "\n",
    "### What you should have done prior to today's Live Session:\n",
    "    \n",
    "1. Install / Verify __Anaconda__ (Python programming tools)\n",
    "    \n",
    "    - Anaconda Navigator\n",
    "    - Jupyter Notebook\n",
    "    - Spyder Integrated Development Environment (IDE)\n",
    "    \n",
    "    \n",
    "2. Create a __GitHub__ account\n",
    "\n",
    "    \n",
    "3. Install __GitHub Desktop__ application\n",
    "\n",
    "\n",
    "4. Configure __GitHub Desktop__ to work with your online __GitHub__ account\n",
    "\n",
    "Please refer to the __Building Your DAV 5400 Computing Environment__ page within Canvas for guidance on installing and configuring each of these tools within your own computing environment."
   ]
  },
  {
   "cell_type": "markdown",
   "metadata": {},
   "source": [
    "## Why Python?\n",
    "\n",
    "Python is a __general purpose__ programming language\n",
    "\n",
    "- Considered \"easy to read\"\n",
    "\n",
    "\n",
    "- Good for rapid prototyping\n",
    "\n",
    "\n",
    "- Used in many complex scientific applications, automation, data mining, and Big Data platforms, etc. \n",
    "\n",
    "\n",
    "- Often used as a scripting language for web apps\n",
    "\n",
    "\n",
    "Many businesses rely on Python as part of their core IT infrastructure:\n",
    "\n",
    "- Google, Amazon, Facebook, Spotify, Netflix, NASA, Bank of America, etc.\n",
    "\n"
   ]
  },
  {
   "cell_type": "markdown",
   "metadata": {},
   "source": [
    "## Jupyter Notebooks\n",
    "\n",
    "Jupyter Notebooks will be the tool you use to craft your assignment + project submissions\n",
    "\n",
    "- Flexible tool lets you incorporate both formatted text AND \"live\" python code\n",
    "\n",
    "\n",
    "- Text formatting enabled by __Markdown__. Equation formatting enabled by __LaTex__.\n",
    "\n",
    "\n",
    "- Code \"cells\" can be developed + tested individually within a document\n",
    "\n",
    "\n",
    "- Provides rendering of Python graphics/visualizations within your documents\n",
    "\n",
    "\n",
    "__*(NOTE: This document is a Jupyter Notebook!!)*__"
   ]
  },
  {
   "cell_type": "markdown",
   "metadata": {},
   "source": [
    "### Example of a Markdown cell"
   ]
  },
  {
   "cell_type": "markdown",
   "metadata": {},
   "source": [
    "The chart below summarizes the model statistics for each of the three models. The models are listed from left to right in accordance with the order in which they were described in __Part 3__. \n",
    "\n",
    "| Metric        |  Model 1(Logit) | Model 2 (Logit)  | Model 3 (OLS) \n",
    "| ------------- | --------------- | ---------------- | --------------\n",
    "| # Predictors  |      3          |     3            |      3\n",
    "| Pseudo R^2    |    0.8244       |   0.3533         |    (-)\n",
    "| R^2           |     (-)         |     (-)          |    0.826\n",
    "| Log Likelih.  |    -1209.6      |   -4455.6        |    3750\n",
    "| Accuracy      |    0.9622       |   0.8176         |    0.9621\n",
    "| Precision     |    0.9587       |   0.6785         |    0.9585\n",
    "| ROC-AUC       |    0.9877       |   0.8917         |    0.9875\n",
    "| F1 Score      |    0.9278       |   0.5761         |    0.9277\n",
    "| Sensitivity   |    0.9976       |   0.5094         |    0.9986\n",
    "\n",
    "As we can see in the table, Models 1 and 3 are fairly similar in their performance metrics. However, the differences in their performance metrics are marginal at best. Of the two, Model 1 is likely preferable due to its reliance on a binary logistic regression approach as opposed to __Model 3__ which makes use of an ordinary least squares approach for predicting the binary response variable.\n",
    "\n",
    "__Model 2__ appears to underperform each of the other two models relative to every performance metric we've evaluated. However, the virtue of __Model 2__ is that it does not rely upon the 'light' variable as a predictor. As mentioned earlier, 'light' is very highly correlated with the 'occ' response variable and is also collinear with the 'temp' variable to a large extent. As such, __Model 2__ clearly has value as an alternative to either __Model 1__ or __Model 3__, each of which incorporate 'light' as a predictor. That said, for purposes of this project __Model 1__ is selected as the preferred model for purposes of predicting the 'occ' response variable in the test data set."
   ]
  },
  {
   "cell_type": "markdown",
   "metadata": {},
   "source": [
    "### Example of Formatting for Equations: LaTex\n",
    "\n",
    "To find the eigenvalues of a matrix we need to solve Det (A -  $\\lambda$I) = 0\n",
    "\n",
    "The matrix (A - $\\lambda$I) is:\n",
    "\n",
    "(1 - $\\lambda$), 2, 3  \n",
    "0, (4 - $\\lambda$), 5  \n",
    "0,  0, (6 - $\\lambda$)  \n",
    "\n",
    "Since this is a triangular matrix (all entries below the diagonal = zeroes), its determinant is simply the product of the entries along the diagonal:\n",
    "\n",
    "Det (A -  $\\lambda$I) =  $(1-\\lambda) * (4-\\lambda) * (6-\\lambda)$  \n",
    "  \n",
    "Therefore, __the eigenvalues are:  $\\lambda = (1, 4, 6)$__  \n",
    "\n",
    "And the characteristic polynomial is:  \n",
    "\n",
    "$(1-\\lambda) * (4-\\lambda) * (6-\\lambda)$ =>\n",
    "\n",
    "$(1-\\lambda) * (24 - 10\\lambda + \\lambda^2)$ => \n",
    "\n",
    "$(24 - 10\\lambda + \\lambda^2) + (-24\\lambda + 10\\lambda^2 - \\lambda^3)$ =>\n",
    "\n",
    "$24 - 34\\lambda + 11\\lambda^2 - \\lambda^3 = 0$\n"
   ]
  },
  {
   "cell_type": "markdown",
   "metadata": {},
   "source": [
    "### Example of Rendering of Python Graphics\n"
   ]
  },
  {
   "cell_type": "code",
   "execution_count": 1,
   "metadata": {},
   "outputs": [
    {
     "name": "stdout",
     "output_type": "stream",
     "text": [
      "[[0.13429265 0.45019302 0.80427825 0.6609141  0.30106598]]\n",
      "[0.13429265 0.45019302 0.80427825 0.6609141  0.30106598]\n"
     ]
    },
    {
     "data": {
      "image/png": "[encoded data removed]",
      "text/plain": [
       "<Figure size 432x288 with 1 Axes>"
      ]
     },
     "metadata": {
      "needs_background": "light"
     },
     "output_type": "display_data"
    }
   ],
   "source": [
    "# Example of python graphic generated in Jupyter notebook\n",
    "\n",
    "# Jupyter Notebook matplotlib activation: include only once per notebook\n",
    "%matplotlib inline\n",
    "\n",
    "import matplotlib.pyplot as plt\n",
    "\n",
    "import numpy as np\n",
    "data = np.random.rand(1,5)\n",
    "print(data)\n",
    "print(data[:][0])\n",
    "plt.plot(data[:][0])\n",
    "plt.show()\n"
   ]
  },
  {
   "cell_type": "markdown",
   "metadata": {},
   "source": [
    "### Example of Embedding an Image from GitHub in a Markdown Cell\n",
    "\n",
    "\n",
    "![Image of Yaktocat](https://octodex.github.com/images/yaktocat.png)"
   ]
  },
  {
   "cell_type": "markdown",
   "metadata": {},
   "source": [
    "## Spyder IDE\n",
    "\n",
    "Spyder is a powerful integrated development environment (IDE) for Python\n",
    "\n",
    "- View variable values changing in \"real time\" as you develop code (introspection)\n",
    "\n",
    "\n",
    "- Interactive testing + debugging\n",
    "\n",
    "\n",
    "- Can speed your development + testing time considerably if used properly !!"
   ]
  }
 ],
 "metadata": {
  "kernelspec": {
   "display_name": "Python 3",
   "language": "python",
   "name": "python3"
  },
  "language_info": {
   "codemirror_mode": {
    "name": "ipython",
    "version": 3
   },
   "file_extension": ".py",
   "mimetype": "text/x-python",
   "name": "python",
   "nbconvert_exporter": "python",
   "pygments_lexer": "ipython3",
   "version": "3.7.3"
  }
 },
 "nbformat": 4,
 "nbformat_minor": 2
}
