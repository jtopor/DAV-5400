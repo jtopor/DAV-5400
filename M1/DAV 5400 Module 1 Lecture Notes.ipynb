{
 "cells": [
  {
   "cell_type": "markdown",
   "metadata": {},
   "source": [
    "# Module 1: Python Syntax, Data Types & Control Flow\n",
    "\n",
    "## Python Syntax\n",
    "\n",
    "- Syntax refers to the structure of the language (i.e., what constitutes a correctly-formed program). \n",
    "\n",
    "\n",
    "- If your Python code lacks proper syntax, it will not execute properly!!\n",
    "\n",
    "\n",
    "A simple example from \"__A Whirlwind Tour of Python__\":"
   ]
  },
  {
   "cell_type": "code",
   "execution_count": 2,
   "metadata": {},
   "outputs": [
    {
     "name": "stdout",
     "output_type": "stream",
     "text": [
      "lower: [0, 1, 2, 3, 4]\n",
      "upper: [5, 6, 7, 8, 9]\n"
     ]
    }
   ],
   "source": [
    "''' This is a multiline comment. You form multiline comments\n",
    "by enclosing the desired text within triple single quotation marks'''\n",
    "\n",
    "# set the midpoint\n",
    "midpoint = 5\n",
    "\n",
    "# make two empty lists\n",
    "lower = []; upper = []\n",
    "\n",
    "# split the numbers into lower and upper\n",
    "for i in range(10):\n",
    "    if (i < midpoint):\n",
    "        lower.append(i) \n",
    "    else:\n",
    "        upper.append(i)\n",
    "        \n",
    "print(\"lower:\", lower)\n",
    "print(\"upper:\", upper)"
   ]
  },
  {
   "cell_type": "markdown",
   "metadata": {},
   "source": [
    "### Note the following:\n",
    "\n",
    "- Comments in Python are most frequently demarcated by the pound sign ('#') character. Everything following a pound sign in a line of Python code is ignored by the Python interpreter.\n",
    "\n",
    "\n",
    "- It is possible to add multiline comments to your code via the use of triple single quotes on both ends of your commentary.\n",
    "\n",
    "\n",
    "- Multiple Python statements can be illiterated within a single line of code. To do this, separate the statements using a semicolon(';'). However, for clarity/readability, the practice of placing multiple statements on a single line is generally discouraged.\n",
    "\n",
    "\n",
    "- Indentation (rather than special characters or brackets) is used to delimit subsections (aka __blocks__) of Python code. In Python, each line of code that __precedes__ a subsection/block must end with a colon (':')\n",
    "\n",
    "\n",
    "- All indented code within a subsection/block __MUST__ be preceded by the exact same number of blank spaces. If you fail to adhere to this rule, your code will not execute properly!!\n",
    "\n",
    "\n",
    "- Parentheses are used for both grouping statements/equations and for invoking Python functions.\n",
    "\n",
    "\n",
    "- Python __methods__ are built-in functions that are inherently associated with a Python object, e.g., __lower.append()__, __upper.append()__.\n",
    "\n",
    "\n",
    "- Methods are accessed via the syntax 'object.method()'\n",
    "\n",
    "\n",
    "- Methods can both provide information about an object AND enable the modification of the object \"in place\""
   ]
  },
  {
   "cell_type": "code",
   "execution_count": 2,
   "metadata": {},
   "outputs": [
    {
     "data": {
      "text/plain": [
       "['__abs__',\n",
       " '__add__',\n",
       " '__bool__',\n",
       " '__class__',\n",
       " '__delattr__',\n",
       " '__dir__',\n",
       " '__divmod__',\n",
       " '__doc__',\n",
       " '__eq__',\n",
       " '__float__',\n",
       " '__floordiv__',\n",
       " '__format__',\n",
       " '__ge__',\n",
       " '__getattribute__',\n",
       " '__getformat__',\n",
       " '__getnewargs__',\n",
       " '__gt__',\n",
       " '__hash__',\n",
       " '__init__',\n",
       " '__init_subclass__',\n",
       " '__int__',\n",
       " '__le__',\n",
       " '__lt__',\n",
       " '__mod__',\n",
       " '__mul__',\n",
       " '__ne__',\n",
       " '__neg__',\n",
       " '__new__',\n",
       " '__pos__',\n",
       " '__pow__',\n",
       " '__radd__',\n",
       " '__rdivmod__',\n",
       " '__reduce__',\n",
       " '__reduce_ex__',\n",
       " '__repr__',\n",
       " '__rfloordiv__',\n",
       " '__rmod__',\n",
       " '__rmul__',\n",
       " '__round__',\n",
       " '__rpow__',\n",
       " '__rsub__',\n",
       " '__rtruediv__',\n",
       " '__set_format__',\n",
       " '__setattr__',\n",
       " '__sizeof__',\n",
       " '__str__',\n",
       " '__sub__',\n",
       " '__subclasshook__',\n",
       " '__truediv__',\n",
       " '__trunc__',\n",
       " 'as_integer_ratio',\n",
       " 'conjugate',\n",
       " 'fromhex',\n",
       " 'hex',\n",
       " 'imag',\n",
       " 'is_integer',\n",
       " 'real']"
      ]
     },
     "execution_count": 2,
     "metadata": {},
     "output_type": "execute_result"
    }
   ],
   "source": [
    "# use the dir() function to get a list of methods for an object\n",
    "\n",
    "f1 = 4.798\n",
    "dir(f1)"
   ]
  },
  {
   "cell_type": "code",
   "execution_count": 3,
   "metadata": {},
   "outputs": [
    {
     "data": {
      "text/plain": [
       "['__add__',\n",
       " '__class__',\n",
       " '__contains__',\n",
       " '__delattr__',\n",
       " '__delitem__',\n",
       " '__dir__',\n",
       " '__doc__',\n",
       " '__eq__',\n",
       " '__format__',\n",
       " '__ge__',\n",
       " '__getattribute__',\n",
       " '__getitem__',\n",
       " '__gt__',\n",
       " '__hash__',\n",
       " '__iadd__',\n",
       " '__imul__',\n",
       " '__init__',\n",
       " '__init_subclass__',\n",
       " '__iter__',\n",
       " '__le__',\n",
       " '__len__',\n",
       " '__lt__',\n",
       " '__mul__',\n",
       " '__ne__',\n",
       " '__new__',\n",
       " '__reduce__',\n",
       " '__reduce_ex__',\n",
       " '__repr__',\n",
       " '__reversed__',\n",
       " '__rmul__',\n",
       " '__setattr__',\n",
       " '__setitem__',\n",
       " '__sizeof__',\n",
       " '__str__',\n",
       " '__subclasshook__',\n",
       " 'append',\n",
       " 'clear',\n",
       " 'copy',\n",
       " 'count',\n",
       " 'extend',\n",
       " 'index',\n",
       " 'insert',\n",
       " 'pop',\n",
       " 'remove',\n",
       " 'reverse',\n",
       " 'sort']"
      ]
     },
     "execution_count": 3,
     "metadata": {},
     "output_type": "execute_result"
    }
   ],
   "source": [
    "# the list of methods will vary depending on the data type of the object\n",
    "dir(lower)"
   ]
  },
  {
   "cell_type": "markdown",
   "metadata": {},
   "source": [
    "## Introspection\n",
    "\n",
    "- Use a question mark ('?') either before or after a variable to get basic info on its type, structure and content."
   ]
  },
  {
   "cell_type": "code",
   "execution_count": 8,
   "metadata": {},
   "outputs": [],
   "source": [
    "# example of introspection using variable from earlier example\n",
    "lower?"
   ]
  },
  {
   "cell_type": "markdown",
   "metadata": {},
   "source": [
    "## Binary Math and Comparison Operators\n",
    "\n",
    "__Math__: +, -, \\*, /, // (floor, i.e, drop the remainder), \\** (exponent), % (modulo, i.e., returns the remainder of division)\n",
    "\n",
    "__Comparisons__: <, >, <=, >=, & (logical AND), | (logical OR), ^ (exclusive OR), == (equals), != (does not equal)\n",
    "\n",
    "__Particular to Python__: is, is not (when testing whether two Python variables reference the exact same Python object)\n",
    "\n",
    "### Some Simple Math Examples:"
   ]
  },
  {
   "cell_type": "code",
   "execution_count": 4,
   "metadata": {},
   "outputs": [
    {
     "data": {
      "text/plain": [
       "7"
      ]
     },
     "execution_count": 4,
     "metadata": {},
     "output_type": "execute_result"
    }
   ],
   "source": [
    "5 + 2"
   ]
  },
  {
   "cell_type": "code",
   "execution_count": 5,
   "metadata": {},
   "outputs": [
    {
     "data": {
      "text/plain": [
       "-9"
      ]
     },
     "execution_count": 5,
     "metadata": {},
     "output_type": "execute_result"
    }
   ],
   "source": [
    "8 - 17"
   ]
  },
  {
   "cell_type": "code",
   "execution_count": 6,
   "metadata": {},
   "outputs": [
    {
     "data": {
      "text/plain": [
       "27"
      ]
     },
     "execution_count": 6,
     "metadata": {},
     "output_type": "execute_result"
    }
   ],
   "source": [
    "# multiplication\n",
    "3 * 9"
   ]
  },
  {
   "cell_type": "code",
   "execution_count": 29,
   "metadata": {},
   "outputs": [
    {
     "data": {
      "text/plain": [
       "3.0"
      ]
     },
     "execution_count": 29,
     "metadata": {},
     "output_type": "execute_result"
    }
   ],
   "source": [
    "# division\n",
    "33/11"
   ]
  },
  {
   "cell_type": "code",
   "execution_count": 7,
   "metadata": {},
   "outputs": [
    {
     "data": {
      "text/plain": [
       "1"
      ]
     },
     "execution_count": 7,
     "metadata": {},
     "output_type": "execute_result"
    }
   ],
   "source": [
    "# \"floor\", i.e., divide and drop the remainder\n",
    "8//5"
   ]
  },
  {
   "cell_type": "code",
   "execution_count": 8,
   "metadata": {},
   "outputs": [
    {
     "data": {
      "text/plain": [
       "32"
      ]
     },
     "execution_count": 8,
     "metadata": {},
     "output_type": "execute_result"
    }
   ],
   "source": [
    "# exponent\n",
    "2**5"
   ]
  },
  {
   "cell_type": "code",
   "execution_count": 56,
   "metadata": {},
   "outputs": [
    {
     "data": {
      "text/plain": [
       "2"
      ]
     },
     "execution_count": 56,
     "metadata": {},
     "output_type": "execute_result"
    }
   ],
   "source": [
    "# modulo\n",
    "9 % 7"
   ]
  },
  {
   "cell_type": "markdown",
   "metadata": {},
   "source": [
    "### Some Simple Comparison Examples"
   ]
  },
  {
   "cell_type": "code",
   "execution_count": 32,
   "metadata": {},
   "outputs": [
    {
     "data": {
      "text/plain": [
       "False"
      ]
     },
     "execution_count": 32,
     "metadata": {},
     "output_type": "execute_result"
    }
   ],
   "source": [
    "5 > 7"
   ]
  },
  {
   "cell_type": "code",
   "execution_count": 33,
   "metadata": {},
   "outputs": [
    {
     "data": {
      "text/plain": [
       "True"
      ]
     },
     "execution_count": 33,
     "metadata": {},
     "output_type": "execute_result"
    }
   ],
   "source": [
    "5 < 7"
   ]
  },
  {
   "cell_type": "code",
   "execution_count": 34,
   "metadata": {},
   "outputs": [
    {
     "data": {
      "text/plain": [
       "True"
      ]
     },
     "execution_count": 34,
     "metadata": {},
     "output_type": "execute_result"
    }
   ],
   "source": [
    "# is 5 greater than (2 + 3)?\n",
    "5 >= 2 + 3"
   ]
  },
  {
   "cell_type": "code",
   "execution_count": 35,
   "metadata": {},
   "outputs": [
    {
     "data": {
      "text/plain": [
       "False"
      ]
     },
     "execution_count": 35,
     "metadata": {},
     "output_type": "execute_result"
    }
   ],
   "source": [
    "# is 5 less than or equal to (7-4)?\n",
    "5 <= 7 - 4"
   ]
  },
  {
   "cell_type": "code",
   "execution_count": 36,
   "metadata": {
    "scrolled": true
   },
   "outputs": [
    {
     "data": {
      "text/plain": [
       "True"
      ]
     },
     "execution_count": 36,
     "metadata": {},
     "output_type": "execute_result"
    }
   ],
   "source": [
    "# are both 7 and 5 greater than 4?\n",
    "7 & 5 > 4"
   ]
  },
  {
   "cell_type": "code",
   "execution_count": 37,
   "metadata": {},
   "outputs": [
    {
     "data": {
      "text/plain": [
       "False"
      ]
     },
     "execution_count": 37,
     "metadata": {},
     "output_type": "execute_result"
    }
   ],
   "source": [
    "# are both 7 and 5 greater than 6?\n",
    "7 & 5 > 6"
   ]
  },
  {
   "cell_type": "code",
   "execution_count": 3,
   "metadata": {},
   "outputs": [
    {
     "data": {
      "text/plain": [
       "4"
      ]
     },
     "execution_count": 3,
     "metadata": {},
     "output_type": "execute_result"
    }
   ],
   "source": [
    "5 & 4"
   ]
  },
  {
   "cell_type": "code",
   "execution_count": 38,
   "metadata": {},
   "outputs": [
    {
     "data": {
      "text/plain": [
       "True"
      ]
     },
     "execution_count": 38,
     "metadata": {},
     "output_type": "execute_result"
    }
   ],
   "source": [
    "# is either 7 or 5 greater than 6?\n",
    "7 | 5 > 6"
   ]
  },
  {
   "cell_type": "code",
   "execution_count": 42,
   "metadata": {},
   "outputs": [
    {
     "data": {
      "text/plain": [
       "True"
      ]
     },
     "execution_count": 42,
     "metadata": {},
     "output_type": "execute_result"
    }
   ],
   "source": [
    "# exclusive OR: at least one argument must be TRUE but not both\n",
    "True ^ False"
   ]
  },
  {
   "cell_type": "code",
   "execution_count": 5,
   "metadata": {},
   "outputs": [
    {
     "data": {
      "text/plain": [
       "False"
      ]
     },
     "execution_count": 5,
     "metadata": {},
     "output_type": "execute_result"
    }
   ],
   "source": [
    "# exclusive OR: at least one argument must be TRUE but not both\n",
    "True ^ True"
   ]
  },
  {
   "cell_type": "code",
   "execution_count": 43,
   "metadata": {},
   "outputs": [
    {
     "data": {
      "text/plain": [
       "False"
      ]
     },
     "execution_count": 43,
     "metadata": {},
     "output_type": "execute_result"
    }
   ],
   "source": [
    "# exclusive OR: at least one argument must be TRUE but not both\n",
    "False ^ False"
   ]
  },
  {
   "cell_type": "code",
   "execution_count": 44,
   "metadata": {},
   "outputs": [
    {
     "data": {
      "text/plain": [
       "True"
      ]
     },
     "execution_count": 44,
     "metadata": {},
     "output_type": "execute_result"
    }
   ],
   "source": [
    "# is 5 equal to (2 + 3)?\n",
    "5 == (2 + 3)"
   ]
  },
  {
   "cell_type": "code",
   "execution_count": 1,
   "metadata": {},
   "outputs": [
    {
     "data": {
      "text/plain": [
       "False"
      ]
     },
     "execution_count": 1,
     "metadata": {},
     "output_type": "execute_result"
    }
   ],
   "source": [
    "# is 5 NOT equal to (2 + 3)?\n",
    "5 != (2 + 3)"
   ]
  },
  {
   "cell_type": "markdown",
   "metadata": {},
   "source": [
    "## Basic Data Types\n",
    "\n",
    "- integers (int)\n",
    "\n",
    "\n",
    "- floating point (float)\n",
    "\n",
    "\n",
    "- strings\n",
    "\n",
    "\n",
    "- dates & times\n",
    "\n",
    "\n",
    "Data types are generally defined implicitly when you declare a variable"
   ]
  },
  {
   "cell_type": "code",
   "execution_count": 9,
   "metadata": {},
   "outputs": [
    {
     "data": {
      "text/plain": [
       "int"
      ]
     },
     "execution_count": 9,
     "metadata": {},
     "output_type": "execute_result"
    }
   ],
   "source": [
    "# define an integer\n",
    "x = 516\n",
    "type(x)"
   ]
  },
  {
   "cell_type": "code",
   "execution_count": 1,
   "metadata": {},
   "outputs": [
    {
     "data": {
      "text/plain": [
       "float"
      ]
     },
     "execution_count": 1,
     "metadata": {},
     "output_type": "execute_result"
    }
   ],
   "source": [
    "# define a float\n",
    "y = 516.7\n",
    "type(y)"
   ]
  },
  {
   "cell_type": "code",
   "execution_count": 2,
   "metadata": {},
   "outputs": [
    {
     "data": {
      "text/plain": [
       "str"
      ]
     },
     "execution_count": 2,
     "metadata": {},
     "output_type": "execute_result"
    }
   ],
   "source": [
    "# define a string\n",
    "z = \"this is a simple string\"\n",
    "type(z)"
   ]
  },
  {
   "cell_type": "code",
   "execution_count": 52,
   "metadata": {},
   "outputs": [
    {
     "data": {
      "text/plain": [
       "float"
      ]
     },
     "execution_count": 52,
     "metadata": {},
     "output_type": "execute_result"
    }
   ],
   "source": [
    "# Adding an int to a float yields a float\n",
    "newvar = x + y\n",
    "type(newvar)"
   ]
  },
  {
   "cell_type": "code",
   "execution_count": 3,
   "metadata": {
    "scrolled": true
   },
   "outputs": [
    {
     "name": "stdout",
     "output_type": "stream",
     "text": [
      "this is a simple string- and this is an extension to the string\n"
     ]
    }
   ],
   "source": [
    "# Strings can be concatenated using the '+' operator\n",
    "newstring = z + \"- and this is an extension to the string\"\n",
    "print(newstring)"
   ]
  },
  {
   "cell_type": "code",
   "execution_count": 57,
   "metadata": {},
   "outputs": [
    {
     "ename": "TypeError",
     "evalue": "can only concatenate str (not \"float\") to str",
     "output_type": "error",
     "traceback": [
      "\u001b[1;31m---------------------------------------------------------------------------\u001b[0m",
      "\u001b[1;31mTypeError\u001b[0m                                 Traceback (most recent call last)",
      "\u001b[1;32m<ipython-input-57-407cbec13a50>\u001b[0m in \u001b[0;36m<module>\u001b[1;34m\u001b[0m\n\u001b[0;32m      1\u001b[0m \u001b[1;31m# Not possible to add a int or float to a string\u001b[0m\u001b[1;33m\u001b[0m\u001b[1;33m\u001b[0m\u001b[1;33m\u001b[0m\u001b[0m\n\u001b[1;32m----> 2\u001b[1;33m \u001b[0mz\u001b[0m \u001b[1;33m+\u001b[0m \u001b[0my\u001b[0m\u001b[1;33m\u001b[0m\u001b[1;33m\u001b[0m\u001b[0m\n\u001b[0m",
      "\u001b[1;31mTypeError\u001b[0m: can only concatenate str (not \"float\") to str"
     ]
    }
   ],
   "source": [
    "# Not possible to add a int or float to a string\n",
    "z + y"
   ]
  },
  {
   "cell_type": "code",
   "execution_count": 3,
   "metadata": {},
   "outputs": [
    {
     "name": "stdout",
     "output_type": "stream",
     "text": [
      "2011-10-29 20:30:21\n",
      "29\n"
     ]
    },
    {
     "data": {
      "text/plain": [
       "30"
      ]
     },
     "execution_count": 3,
     "metadata": {},
     "output_type": "execute_result"
    }
   ],
   "source": [
    "# dates + time manipulation is made easy via the pre-built datetime module\n",
    "from datetime import datetime, date, time\n",
    "dt = datetime(2011, 10, 29, 20, 30, 21)\n",
    "print(dt)\n",
    "print(dt.day)\n",
    "dt.minute"
   ]
  },
  {
   "cell_type": "markdown",
   "metadata": {},
   "source": [
    "## Lists\n",
    "\n",
    "- A list is a Python __data structure__.\n",
    "\n",
    "\n",
    "- Unlike a simple data type, a data structure is a __collection__ of data values, the elements of which may or may not share the same data type."
   ]
  },
  {
   "cell_type": "code",
   "execution_count": 8,
   "metadata": {},
   "outputs": [
    {
     "name": "stdout",
     "output_type": "stream",
     "text": [
      "[1, 2, 3, 4, 5, 6, 7, 8, 9, 10]\n"
     ]
    }
   ],
   "source": [
    "# how to create an empty list\n",
    "emptylist = []\n",
    "\n",
    "# example of a list containing data\n",
    "list1 = [1,2,3,4,5]\n",
    "list2 = [6,7,8,9,10]\n",
    "\n",
    "# concatenation of two lists via the '+' operator\n",
    "list3 = list1 + list2\n",
    "\n",
    "print(list3)"
   ]
  },
  {
   "cell_type": "code",
   "execution_count": 10,
   "metadata": {},
   "outputs": [
    {
     "name": "stdout",
     "output_type": "stream",
     "text": [
      "<class 'float'>\n",
      "<class 'str'>\n"
     ]
    }
   ],
   "source": [
    "# example of a list containing mixed data\n",
    "mixedlist = [1, 'far', 3.14159, 'pi']\n",
    "\n",
    "print(type(mixedlist[2]))\n",
    "print(type(mixedlist[3]))    1 1 1 1"
   ]
  },
  {
   "cell_type": "markdown",
   "metadata": {},
   "source": [
    "## Indexing: How to access data in a list\n",
    "\n",
    "Elements in a list can be accessed via their corresponding index value\n",
    "\n",
    "Index values start at 0(zero) and end at (1 - length of list). This is known as \"__zero-based counting__\" and is a remnant of the early days of computer programming.\n",
    "\n",
    "So the index values of the __mixed__ list shown above are 0, 1, 2, 3\n",
    "\n",
    "1 1 1 1\n",
    "0 1 1 1 \n",
    "0 0 1 1\n",
    "0 0 0 1\n",
    "0 0 0 0 "
   ]
  },
  {
   "cell_type": "code",
   "execution_count": 11,
   "metadata": {},
   "outputs": [
    {
     "name": "stdout",
     "output_type": "stream",
     "text": [
      "1\n",
      "<class 'int'>\n",
      "pi\n",
      "<class 'str'>\n"
     ]
    }
   ],
   "source": [
    "# example of list indices\n",
    "\n",
    "print(mixedlist[0])\n",
    "print(type(mixedlist[0]))\n",
    "      \n",
    "print(mixedlist[3])\n",
    "print(type(mixedlist[3]))"
   ]
  },
  {
   "cell_type": "markdown",
   "metadata": {},
   "source": [
    "## What happens if we try to use an invalid index?"
   ]
  },
  {
   "cell_type": "code",
   "execution_count": 6,
   "metadata": {},
   "outputs": [
    {
     "ename": "IndexError",
     "evalue": "list index out of range",
     "output_type": "error",
     "traceback": [
      "\u001b[1;31m---------------------------------------------------------------------------\u001b[0m",
      "\u001b[1;31mIndexError\u001b[0m                                Traceback (most recent call last)",
      "\u001b[1;32m<ipython-input-6-c54fc0b98ca9>\u001b[0m in \u001b[0;36m<module>\u001b[1;34m\u001b[0m\n\u001b[0;32m      1\u001b[0m \u001b[1;31m# invalid index\u001b[0m\u001b[1;33m\u001b[0m\u001b[1;33m\u001b[0m\u001b[1;33m\u001b[0m\u001b[0m\n\u001b[1;32m----> 2\u001b[1;33m \u001b[0mmixed\u001b[0m\u001b[1;33m[\u001b[0m\u001b[1;36m4\u001b[0m\u001b[1;33m]\u001b[0m\u001b[1;33m\u001b[0m\u001b[1;33m\u001b[0m\u001b[0m\n\u001b[0m",
      "\u001b[1;31mIndexError\u001b[0m: list index out of range"
     ]
    }
   ],
   "source": [
    "# invalid index\n",
    "mixed[4]"
   ]
  },
  {
   "cell_type": "markdown",
   "metadata": {},
   "source": [
    "## Slicing: Extracting a portion of a list\n"
   ]
  },
  {
   "cell_type": "code",
   "execution_count": 8,
   "metadata": {},
   "outputs": [
    {
     "name": "stdout",
     "output_type": "stream",
     "text": [
      "[1, 2]\n"
     ]
    }
   ],
   "source": [
    "slist = [1,2,3,4,5]\n",
    "\n",
    "# display the first two items from the list\n",
    "print (slist[0:2])"
   ]
  },
  {
   "cell_type": "code",
   "execution_count": 21,
   "metadata": {},
   "outputs": [
    {
     "name": "stdout",
     "output_type": "stream",
     "text": [
      "[3, 4]\n"
     ]
    }
   ],
   "source": [
    "# display items 3 and 4 from the list\n",
    "print(slist[2:4])"
   ]
  },
  {
   "cell_type": "code",
   "execution_count": 22,
   "metadata": {},
   "outputs": [
    {
     "name": "stdout",
     "output_type": "stream",
     "text": [
      "[1, 2, 3]\n"
     ]
    }
   ],
   "source": [
    "# display the first 3 items from the list\n",
    "print(slist[:3])"
   ]
  },
  {
   "cell_type": "code",
   "execution_count": 23,
   "metadata": {},
   "outputs": [
    {
     "name": "stdout",
     "output_type": "stream",
     "text": [
      "[2, 3, 4, 5]\n"
     ]
    }
   ],
   "source": [
    "# display all items from the list starting with the second item\n",
    "print(slist[1:])"
   ]
  },
  {
   "cell_type": "markdown",
   "metadata": {},
   "source": [
    "## Built-In Functions"
   ]
  },
  {
   "cell_type": "code",
   "execution_count": 4,
   "metadata": {},
   "outputs": [
    {
     "name": "stdout",
     "output_type": "stream",
     "text": [
      "this is a simple string- and this is an extension to the string\n"
     ]
    }
   ],
   "source": [
    "# Some of the most frequently used Python built-in functions\n",
    "print(newstring)"
   ]
  },
  {
   "cell_type": "code",
   "execution_count": 5,
   "metadata": {},
   "outputs": [
    {
     "name": "stdout",
     "output_type": "stream",
     "text": [
      "63\n"
     ]
    }
   ],
   "source": [
    "# get the length of an object\n",
    "print(len(newstring))"
   ]
  },
  {
   "cell_type": "code",
   "execution_count": 61,
   "metadata": {},
   "outputs": [
    {
     "name": "stdout",
     "output_type": "stream",
     "text": [
      "10\n"
     ]
    }
   ],
   "source": [
    "# sum a list of integers\n",
    "listsum = sum([1, 2, 3, 4])\n",
    "print(listsum)"
   ]
  },
  {
   "cell_type": "code",
   "execution_count": 65,
   "metadata": {},
   "outputs": [
    {
     "name": "stdout",
     "output_type": "stream",
     "text": [
      "4\n"
     ]
    }
   ],
   "source": [
    "# get the max of a list\n",
    "listmax = max([1, 2, 3, 4])\n",
    "print(listmax)"
   ]
  },
  {
   "cell_type": "code",
   "execution_count": 66,
   "metadata": {},
   "outputs": [
    {
     "name": "stdout",
     "output_type": "stream",
     "text": [
      "1\n"
     ]
    }
   ],
   "source": [
    "# get the min of a list\n",
    "listmin = min([1, 2, 3, 4])\n",
    "print(listmin)"
   ]
  },
  {
   "cell_type": "code",
   "execution_count": 63,
   "metadata": {},
   "outputs": [
    {
     "data": {
      "text/plain": [
       "int"
      ]
     },
     "execution_count": 63,
     "metadata": {},
     "output_type": "execute_result"
    }
   ],
   "source": [
    "# change data type of content of a variable when assigning it to a new variable\n",
    "# changing a data type is referred to as \"type casting\"\n",
    "newint = int(newvar)\n",
    "type(newint)"
   ]
  },
  {
   "cell_type": "code",
   "execution_count": 64,
   "metadata": {},
   "outputs": [
    {
     "data": {
      "text/plain": [
       "float"
      ]
     },
     "execution_count": 64,
     "metadata": {},
     "output_type": "execute_result"
    }
   ],
   "source": [
    "# change an integer to float\n",
    "newfloat = float(x)\n",
    "type(newfloat)"
   ]
  },
  {
   "cell_type": "code",
   "execution_count": 6,
   "metadata": {},
   "outputs": [
    {
     "name": "stdout",
     "output_type": "stream",
     "text": [
      "0\n",
      "1\n",
      "2\n"
     ]
    }
   ],
   "source": [
    "# range() automatically generates a sequence of values\n",
    "# often used to facilitate iteration in a loop statement\n",
    "rx = range(3)\n",
    "print(rx[0])\n",
    "print(rx[1])\n",
    "print(rx[2])"
   ]
  },
  {
   "cell_type": "code",
   "execution_count": 7,
   "metadata": {},
   "outputs": [
    {
     "ename": "IndexError",
     "evalue": "range object index out of range",
     "output_type": "error",
     "traceback": [
      "\u001b[1;31m---------------------------------------------------------------------------\u001b[0m",
      "\u001b[1;31mIndexError\u001b[0m                                Traceback (most recent call last)",
      "\u001b[1;32m<ipython-input-7-a26b630d3c6e>\u001b[0m in \u001b[0;36m<module>\u001b[1;34m\u001b[0m\n\u001b[0;32m      2\u001b[0m \u001b[1;31m# so if we attempt to access an index value that is too large relative to the data object\u001b[0m\u001b[1;33m\u001b[0m\u001b[1;33m\u001b[0m\u001b[1;33m\u001b[0m\u001b[0m\n\u001b[0;32m      3\u001b[0m \u001b[1;31m# we will get an error message\u001b[0m\u001b[1;33m\u001b[0m\u001b[1;33m\u001b[0m\u001b[1;33m\u001b[0m\u001b[0m\n\u001b[1;32m----> 4\u001b[1;33m \u001b[0mprint\u001b[0m\u001b[1;33m(\u001b[0m\u001b[0mrx\u001b[0m\u001b[1;33m[\u001b[0m\u001b[1;36m3\u001b[0m\u001b[1;33m]\u001b[0m\u001b[1;33m)\u001b[0m\u001b[1;33m\u001b[0m\u001b[1;33m\u001b[0m\u001b[0m\n\u001b[0m",
      "\u001b[1;31mIndexError\u001b[0m: range object index out of range"
     ]
    }
   ],
   "source": [
    "# as with a list, range valid indices go from 0(zero) to (1 - length of range)\n",
    "# so if we attempt to access an index value that is too large relative to the data object\n",
    "# we will get an error message\n",
    "print(rx[3])"
   ]
  },
  {
   "cell_type": "markdown",
   "metadata": {},
   "source": [
    "A reference guide to Python's built in functions is posted in Canvas\n",
    "\n",
    "https://docs.python.org/3/library/functions.html\n",
    "\n",
    "More usage to come in the upcoming weeks !!"
   ]
  },
  {
   "cell_type": "markdown",
   "metadata": {},
   "source": [
    "## Control Flow\n",
    "\n",
    "Three basic control flow constructs:\n",
    "\n",
    "- if - then - else\n",
    "\n",
    "- while loop\n",
    "\n",
    "- for loop\n",
    "\n",
    "\n",
    "### if - then - else\n",
    "    \n",
    "Logic:\n",
    "&nbsp;&nbsp;__if__ some condition is true, do something; <br />\n",
    "&nbsp;&nbsp;__else if__ some other condition is true, do something else <br />\n",
    "&nbsp;&nbsp;__else__ (i.e., if none of the preceding conditions are true), perform a \"catchall\" task"
   ]
  },
  {
   "cell_type": "code",
   "execution_count": 73,
   "metadata": {},
   "outputs": [
    {
     "name": "stdout",
     "output_type": "stream",
     "text": [
      "-15 is negative\n"
     ]
    }
   ],
   "source": [
    "# if then else example taken from \"A Whirlwind Tour of Python\"\n",
    "# Note that 'elif' is Python syntax for \"else if\"\n",
    "x = -15\n",
    "\n",
    "if x == 0:\n",
    "    print(x, \"is zero\")\n",
    "elif x > 0:\n",
    "    print(x, \"is positive\")\n",
    "elif x < 0:\n",
    "    print(x, \"is negative\")\n",
    "else:\n",
    "    print(x, \"is unlike anything I've ever seen...\")"
   ]
  },
  {
   "cell_type": "markdown",
   "metadata": {},
   "source": [
    "### while loop\n",
    "\n",
    "Logic:\n",
    "    iterate until a condition is met\n",
    "    "
   ]
  },
  {
   "cell_type": "code",
   "execution_count": 67,
   "metadata": {},
   "outputs": [
    {
     "name": "stdout",
     "output_type": "stream",
     "text": [
      "0 1 2 3 4 5 6 7 8 9 "
     ]
    }
   ],
   "source": [
    "# while loop example from \"A Whirlwind Tour of Python\"\n",
    "i = 0\n",
    "while i < 10:\n",
    "    print(i, end=' ')\n",
    "    i += 1"
   ]
  },
  {
   "cell_type": "markdown",
   "metadata": {},
   "source": [
    "### for loop\n",
    "\n",
    "Logic: \n",
    "    iterate a finite number of times, e.g., by sequentially iterating through the elements of a list or a finite range of numeric values"
   ]
  },
  {
   "cell_type": "code",
   "execution_count": 2,
   "metadata": {},
   "outputs": [
    {
     "name": "stdout",
     "output_type": "stream",
     "text": [
      "0 1 2 3 4 5 6 7 8 9 "
     ]
    }
   ],
   "source": [
    "# a simple for loop\n",
    "for i in range(10):\n",
    "    print(i, end=' ')"
   ]
  },
  {
   "cell_type": "markdown",
   "metadata": {},
   "source": [
    "### Nested for loops\n",
    "\n",
    "Logic: iterate a finite number of times across each of TWO iterators"
   ]
  },
  {
   "cell_type": "code",
   "execution_count": 6,
   "metadata": {
    "scrolled": true
   },
   "outputs": [
    {
     "name": "stdout",
     "output_type": "stream",
     "text": [
      "[1, 2, 3, 'A', 'B', 'C', 4, 5, 'D', 'E']\n"
     ]
    }
   ],
   "source": [
    "# a nested for loop\n",
    "# let's start with a list of lists\n",
    "nlist = [[1, 2, 3], ['A', 'B', 'C'], [4, 5], ['D', 'E']]\n",
    "\n",
    "# a new list we will fill with the individual items of the 'nlist' lists\n",
    "flist = []\n",
    "\n",
    "# nested for loop: 'for x in nlist' extracts a sublist from 'nlist'\n",
    "# 'for y in x' extracts each item from that sublist\n",
    "for x in nlist:\n",
    "    for y in x:\n",
    "        flist.append(y)\n",
    "print(flist)\n"
   ]
  },
  {
   "cell_type": "markdown",
   "metadata": {},
   "source": [
    "### Using 'break' and 'continue' to control your loops\n",
    "\n",
    "- use 'break' to entirely escape from the loop\n",
    "\n",
    "- use 'continue' to skip ahead to the next iteration of the loop"
   ]
  },
  {
   "cell_type": "code",
   "execution_count": 70,
   "metadata": {},
   "outputs": [
    {
     "name": "stdout",
     "output_type": "stream",
     "text": [
      "[1, 1, 2, 3, 5, 8, 13, 21, 34, 55, 89]\n"
     ]
    }
   ],
   "source": [
    "# From \"A Whirlwind Tour of Python\": generating all Fibonacci numbers < 100\n",
    "a, b = 0, 1\n",
    "amax = 100\n",
    "L = []\n",
    "\n",
    "# iterate until a > amax; when a > amax, break out of the while loop\n",
    "while True:\n",
    "    (a, b) = (b, a + b)\n",
    "    if a > amax:\n",
    "        break\n",
    "    L.append(a)\n",
    "\n",
    "print(L)"
   ]
  },
  {
   "cell_type": "code",
   "execution_count": 69,
   "metadata": {},
   "outputs": [
    {
     "name": "stdout",
     "output_type": "stream",
     "text": [
      "1 3 5 7 9 11 13 15 17 19 "
     ]
    }
   ],
   "source": [
    "# 'continue' example from \"A Whirlwind Tour of Python\"\n",
    "for n in range(20):\n",
    "    # if the remainder of n / 2 is 0, skip the rest of the loop\n",
    "    if n % 2 == 0:\n",
    "        continue\n",
    "    print(n, end=' ')"
   ]
  },
  {
   "cell_type": "markdown",
   "metadata": {},
   "source": [
    "## Proper Use of Comments in Code\n",
    "\n",
    "- Comments should be applied within your code in a concise and consistent manner\n",
    "\n",
    "\n",
    "- A good rule of thumb is to __include an explanatory comment at the start of each code block__ as well as for individual lines of code that may be difficult for other Python users to interpret / understand\n",
    "\n",
    "\n",
    "__*\\**NEVER, EVER leave any Python program you create free of comments!! Such behavior is considered both lazy and sloppy and will not earn you the respect of your peers or superiors.*__\n",
    "\n",
    "\n",
    "### Which of these two code samples would you prefer to work with?"
   ]
  },
  {
   "cell_type": "code",
   "execution_count": null,
   "metadata": {},
   "outputs": [],
   "source": [
    "# CODE SAMPLE 1\n",
    "# -----------------\n",
    "\n",
    "# first check the length of the list to ensure it is > 1\n",
    "    if len(input) < 2:\n",
    "        return input\n",
    "        \n",
    "    # use the first item in the list as the pivot value\n",
    "    # use a for loop to extract all instances of the pivot value\n",
    "    pivot = [x for x in input if x == input[0]]\n",
    "    \n",
    "    # for loop to extract all items < pivot; sort that new list via recursion\n",
    "    smallers = sortwithloops([x for x in input if x < input[0] ])\n",
    "    \n",
    "    # for loop to extract all items > pivot; sort that new list via recursion\n",
    "    largers = sortwithloops([x for x in input if x > input[0] ])"
   ]
  },
  {
   "cell_type": "code",
   "execution_count": null,
   "metadata": {},
   "outputs": [],
   "source": [
    "# CODE SAMPLE 2\n",
    "# ----------------------\n",
    "\n",
    "avg_lat_long_by_ward_df = df[df['longitude'] != 0]. \\\n",
    "groupby(['ward'])['latitude','longitude'].mean().reset_index()\n",
    "avg_lat_long_by_ward_df.columns=['ward','avg_latitude','avg_longitude']\n",
    "\n",
    "avg_lat_long_by_lga_df = df[df['longitude'] != 0]. \\\n",
    "groupby(['lga'])['latitude','longitude'].mean().reset_index()\n",
    "avg_lat_long_by_lga_df.columns=['lga','avg_latitude','avg_longitude']\n",
    "\n",
    "avg_lat_long_by_region_df = df[df['longitude'] != 0]. \\\n",
    "groupby(['region'])['latitude','longitude'].mean().reset_index()\n",
    "\n",
    "avg_lat_long_by_region_df.columns=['region','avg_latitude','avg_longitude']\n",
    "\n",
    "\n",
    "avg_lat_ward_dict = dict(zip(list(avg_lat_long_by_ward_df['ward']),list(avg_lat_long_by_ward_df['avg_latitude'])))\n",
    "avg_long_ward_dict = dict(zip(list(avg_lat_long_by_ward_df['ward']),list(avg_lat_long_by_ward_df['avg_longitude'])))"
   ]
  },
  {
   "cell_type": "markdown",
   "metadata": {},
   "source": [
    "### \"Hands On\" Exercises\n",
    "\n",
    "1. Write a loop that accepts a string and produces a new string with the characters in reverse order. For example: 'analytics' would become 'scitylana'. Make use of Python's __input__ function to capute the string from a user."
   ]
  },
  {
   "cell_type": "code",
   "execution_count": null,
   "metadata": {
    "scrolled": true
   },
   "outputs": [],
   "source": [
    "# using input() to capture a user provided string \n",
    "word = input(\"Input a word\")\n",
    "word"
   ]
  },
  {
   "cell_type": "markdown",
   "metadata": {},
   "source": [
    "2. Write a loop that accepts a string and produces a list composed of items that each have at least 2 sequential characters from the original string, with the exception of the last element of the list which will contain any remaining individual character from the original string. For example: 'analytics' would become ['an', 'al', 'yt', 'ic', 's']"
   ]
  },
  {
   "cell_type": "code",
   "execution_count": 7,
   "metadata": {},
   "outputs": [
    {
     "name": "stdout",
     "output_type": "stream",
     "text": [
      "['FALSE', '63', 'MALE', 'TYPICAL_ANGINA', '145', '233']\n",
      "['TRUE', '67', 'MALE', 'ASYMPTOMATIC', '160', '286']\n",
      "['TRUE', '67', 'MALE', 'ASYMPTOMATIC', '120', '229']\n",
      "['FALSE', '37', 'MALE', 'NON_ANGINAL', '130', '250']\n",
      "['FALSE', '41', 'FEMALE', 'ATYPICAL_ANGINA', '130', '204']\n",
      "['FALSE', '56', 'MALE', 'ATYPICAL_ANGINA', '120', '236']\n",
      "['TRUE', '62', 'FEMALE', 'ASYMPTOMATIC', '140', '268']\n",
      "['FALSE', '57', 'FEMALE', 'ASYMPTOMATIC', '120', '354']\n",
      "['TRUE', '63', 'MALE', 'ASYMPTOMATIC', '130', '254']\n",
      "['TRUE', '53', 'MALE', 'ASYMPTOMATIC', '140', '203']\n",
      "['FALSE', '57', 'MALE', 'ASYMPTOMATIC', '140', '192']\n",
      "['FALSE', '56', 'FEMALE', 'ATYPICAL_ANGINA', '140', '294']\n",
      "['TRUE', '56', 'MALE', 'NON_ANGINAL', '130', '256']\n",
      "['FALSE', '44', 'MALE', 'ATYPICAL_ANGINA', '120', '263']\n",
      "['FALSE', '52', 'MALE', 'NON_ANGINAL', '172', '199']\n",
      "['FALSE', '57', 'MALE', 'NON_ANGINAL', '150', '168']\n",
      "['TRUE', '48', 'MALE', 'ATYPICAL_ANGINA', '110', '229']\n",
      "['FALSE', '54', 'MALE', 'ASYMPTOMATIC', '140', '239']\n",
      "['FALSE', '48', 'FEMALE', 'NON_ANGINAL', '130', '275']\n",
      "['FALSE', '49', 'MALE', 'ATYPICAL_ANGINA', '130', '266']\n",
      "['FALSE', '64', 'MALE', 'TYPICAL_ANGINA', '110', '211']\n",
      "['FALSE', '58', 'FEMALE', 'TYPICAL_ANGINA', '150', '283']\n",
      "['TRUE', '58', 'MALE', 'ATYPICAL_ANGINA', '120', '284']\n",
      "['TRUE', '58', 'MALE', 'NON_ANGINAL', '132', '224']\n",
      "['TRUE', '60', 'MALE', 'ASYMPTOMATIC', '130', '206']\n",
      "['FALSE', '50', 'FEMALE', 'NON_ANGINAL', '120', '219']\n",
      "['FALSE', '58', 'FEMALE', 'NON_ANGINAL', '120', '340']\n",
      "['FALSE', '66', 'FEMALE', 'TYPICAL_ANGINA', '150', '226']\n",
      "['FALSE', '43', 'MALE', 'ASYMPTOMATIC', '150', '247']\n",
      "['TRUE', '40', 'MALE', 'ASYMPTOMATIC', '110', '167']\n",
      "['FALSE', '69', 'FEMALE', 'TYPICAL_ANGINA', '140', '239']\n",
      "['TRUE', '60', 'MALE', 'ASYMPTOMATIC', '117', '230']\n",
      "['TRUE', '64', 'MALE', 'NON_ANGINAL', '140', '335']\n",
      "['FALSE', '59', 'MALE', 'ASYMPTOMATIC', '135', '234']\n",
      "['FALSE', '44', 'MALE', 'NON_ANGINAL', '130', '233']\n",
      "['FALSE', '42', 'MALE', 'ASYMPTOMATIC', '140', '226']\n",
      "['TRUE', '43', 'MALE', 'ASYMPTOMATIC', '120', '177']\n",
      "['TRUE', '57', 'MALE', 'ASYMPTOMATIC', '150', '276']\n",
      "['TRUE', '55', 'MALE', 'ASYMPTOMATIC', '132', '353']\n",
      "['FALSE', '61', 'MALE', 'NON_ANGINAL', '150', '243']\n"
     ]
    }
   ],
   "source": [
    "### M1 Assignment Code Stub\n",
    "\n",
    "import csv\n",
    "\n",
    "# make sure file path is adjusted to match location of file on your device\n",
    "with open('C:/data/M1_Data40.txt') as csvfile:\n",
    "    readCSV = csv.reader(csvfile)\n",
    "    for row in readCSV:\n",
    "        # print each row as read by the csv.reader function\n",
    "        print(row)"
   ]
  },
  {
   "cell_type": "code",
   "execution_count": null,
   "metadata": {},
   "outputs": [],
   "source": []
  }
 ],
 "metadata": {
  "kernelspec": {
   "display_name": "Python 3",
   "language": "python",
   "name": "python3"
  },
  "language_info": {
   "codemirror_mode": {
    "name": "ipython",
    "version": 3
   },
   "file_extension": ".py",
   "mimetype": "text/x-python",
   "name": "python",
   "nbconvert_exporter": "python",
   "pygments_lexer": "ipython3",
   "version": "3.7.3"
  }
 },
 "nbformat": 4,
 "nbformat_minor": 2
}
