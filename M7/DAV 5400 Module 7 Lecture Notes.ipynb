{
 "cells": [
  {
   "cell_type": "markdown",
   "metadata": {},
   "source": [
    "# Module 7: Text Processing\n",
    "\n",
    "- How to parse and/or pattern match within text data?\n",
    "\n",
    "\n",
    "- __String Object Methods__ in Python are covered in the PfDA text and are easy to understand. Refer to pages 215 - 217.\n",
    "\n",
    "\n",
    "- Pattern matching is possible via \"regular expressions\", aka \"regex\"\n",
    "\n",
    "\n",
    "- The regular expression \"language\" provides a universal method for parsing/pattern matching of text data. Regex processing is often used for extracting useful information from HTML, JSON, JS, and other heavily formatted types of data sources.\n",
    "\n",
    "\n",
    "- The idea behind regex is to use special codes/character sequences as \"wildcards\" for purposes of finding character strings within a text that conform to a particular syntactical structure.\n",
    "\n",
    "\n",
    "- Multiple regex reference docs are provided in the Module 7 reading materials within Canvas. You should refer to them for a detailed explanation of regex logic + syntax.\n",
    "\n",
    "\n",
    "- In Python, we rely on the 're' module for regex functionality"
   ]
  },
  {
   "cell_type": "markdown",
   "metadata": {},
   "source": [
    "### Regular Expressions\n",
    "\n",
    "We'll start with a very simple example: splitting a string containing words that are separated by a varying number of whitespace characters"
   ]
  },
  {
   "cell_type": "code",
   "execution_count": 1,
   "metadata": {},
   "outputs": [
    {
     "data": {
      "text/plain": [
       "'foo    bar\\t baz  \\tqux'"
      ]
     },
     "execution_count": 1,
     "metadata": {},
     "output_type": "execute_result"
    }
   ],
   "source": [
    "# load the re module\n",
    "import re\n",
    "\n",
    "# how to split a string containing a varying number of whitespace characters\n",
    "# start by generating some data to use\n",
    "# NOTE: '\\t' is the escape sequence for a horizontal whitespace 'tab'\n",
    "text = \"foo    bar\\t baz  \\tqux\"\n",
    "text"
   ]
  },
  {
   "cell_type": "code",
   "execution_count": 2,
   "metadata": {},
   "outputs": [
    {
     "data": {
      "text/plain": [
       "['foo', 'bar', 'baz', 'qux']"
      ]
     },
     "execution_count": 2,
     "metadata": {},
     "output_type": "execute_result"
    }
   ],
   "source": [
    "# apply the split() function using a regex of '\\s+' which describes a \n",
    "# string having one or more whitespace characters\n",
    "re.split('\\s+', text)"
   ]
  },
  {
   "cell_type": "markdown",
   "metadata": {},
   "source": [
    "#### Extracting Components of a String as Separate Groupings of Data\n",
    "\n",
    "Suppose we are given the text string shown below. The content represents information related to courses being offered by a university. We are provided with the course number, a three letter course code that uniquely identifies academic department responsible for the course, and the course name. (Sourced from Module 7 Recommended Readings: https://www.machinelearningplus.com/python/python-regex-tutorial-examples/)"
   ]
  },
  {
   "cell_type": "code",
   "execution_count": 3,
   "metadata": {},
   "outputs": [],
   "source": [
    "text = \"\"\"101   COM   Computers\n",
    "205   MAT   Mathematics\n",
    "189   ENG    English\"\"\"  "
   ]
  },
  {
   "cell_type": "markdown",
   "metadata": {},
   "source": [
    "Let's say we want to __extract all of the course numbers__ from the string. How might we accomplish this using a regular expression?"
   ]
  },
  {
   "cell_type": "code",
   "execution_count": 4,
   "metadata": {},
   "outputs": [
    {
     "data": {
      "text/plain": [
       "['101', '205', '189']"
      ]
     },
     "execution_count": 4,
     "metadata": {},
     "output_type": "execute_result"
    }
   ],
   "source": [
    "# 1. extract all course numbers\n",
    "re.findall('[0-9]+', text)"
   ]
  },
  {
   "cell_type": "markdown",
   "metadata": {},
   "source": [
    "As we discussed above, regular expressions are used for parsing/pattern matching within text data. To extract the course numbers (and only the course numbers) from the string shown above, we've defined a regular expression:\n",
    "\n",
    "- __[0-9]+__ \n",
    "\n",
    "The parsing behavior of this regular expression can be explained as follows:\n",
    "\n",
    "- __[0-9]__ = Match any digit within the range of 0, 1, 2, .., 9\n",
    "\n",
    "\n",
    "- __'+'__   = A plus sign ('+') within a regular expression indicates that the regular expression parser should __match one or more of the preceding regex characters/codes__. In this example, the preceding characters/codes are comprised of the digits ranging from 0 through 9 ('[0-9]')\n",
    "\n"
   ]
  },
  {
   "cell_type": "markdown",
   "metadata": {},
   "source": [
    "What if we'd like to __extract all of the three letter academic department codes__ from the string?"
   ]
  },
  {
   "cell_type": "code",
   "execution_count": 5,
   "metadata": {},
   "outputs": [
    {
     "data": {
      "text/plain": [
       "['COM', 'MAT', 'ENG']"
      ]
     },
     "execution_count": 5,
     "metadata": {},
     "output_type": "execute_result"
    }
   ],
   "source": [
    "# 2. extract all course codes\n",
    "re.findall('[A-Z]{3}', text)"
   ]
  },
  {
   "cell_type": "markdown",
   "metadata": {},
   "source": [
    "The parsing behavior of this regular expression can be explained as follows:\n",
    "\n",
    "- __[A-Z]__ = Match any uppercase letter within the range of A, B, C, .., Z\n",
    "\n",
    "\n",
    "- __{3}__ = Match __exactly__ three of the preceding regex characters/codes. In this example, the preceding characters/codes are the uppercase letters within the range of A, B, C, .., Z"
   ]
  },
  {
   "cell_type": "markdown",
   "metadata": {},
   "source": [
    "Now let's __extract the course names__ from the provided string:"
   ]
  },
  {
   "cell_type": "code",
   "execution_count": 6,
   "metadata": {},
   "outputs": [
    {
     "data": {
      "text/plain": [
       "['Computers', 'Mathematics', 'English']"
      ]
     },
     "execution_count": 6,
     "metadata": {},
     "output_type": "execute_result"
    }
   ],
   "source": [
    "# 3. extract all course names\n",
    "re.findall('[A-Za-z]{4,}', text)"
   ]
  },
  {
   "cell_type": "markdown",
   "metadata": {},
   "source": [
    "The parsing behavior of this regular expression can be explained as follows:\n",
    "\n",
    "- __[A-Za-z]__ = Match any uppercase OR lowercase letter within the range of A, B, C, .., Z and a, b, c, .., z\n",
    "\n",
    "\n",
    "- __{4,}__ = Match the preceding regex characters/codes __4 or more times__. In this example, the preceding characters/codes are any uppercase or lowercase letter within the range of A, B, C, .., Z and a, b, c, .., z"
   ]
  },
  {
   "cell_type": "markdown",
   "metadata": {},
   "source": [
    "#### Extracting Email Addresses From a String\n",
    "\n",
    "Now a more complicated (and more realistic) example: __Extracting some simple email addresses__ from a text."
   ]
  },
  {
   "cell_type": "code",
   "execution_count": 4,
   "metadata": {},
   "outputs": [],
   "source": [
    "# start by compiling the regex you will use to parse out the email addresses:\n",
    "# Here you are creating a compiled regex and assigning it the name 'email'\n",
    "# The regex can then be applied repeatedly throughout your Python code.\n",
    "# The regex we will use is '\\w+@\\w+\\.[a-z]{3}', which we will decipher a bit\n",
    "# later\n",
    "email = re.compile('\\w+@\\w+\\.[a-z]{3}')"
   ]
  },
  {
   "cell_type": "code",
   "execution_count": 5,
   "metadata": {},
   "outputs": [
    {
     "data": {
      "text/plain": [
       "['guido@python.org', 'guido@google.com']"
      ]
     },
     "execution_count": 5,
     "metadata": {},
     "output_type": "execute_result"
    }
   ],
   "source": [
    "# define some sample text containing email addresses\n",
    "text = \"To email Guido, try guido@python.org or the older address guido@google.com.\"\n",
    "\n",
    "# now apply the 'email' regex to the sample text to extract ONLY the email\n",
    "# addresses\n",
    "email.findall(text)"
   ]
  },
  {
   "cell_type": "markdown",
   "metadata": {},
   "source": [
    "So what exactly is the regular expression __'\\w+@\\w+\\\\.[a-z]{3}'__ going to \"pattern match\" to? \n",
    "\n",
    "Let's dissect the individual components. *(NOTE: For a detailed description of regex syntax, please refer to https://docs.python.org/3/howto/regex.html and https://www.machinelearningplus.com/python/python-regex-tutorial-examples/)*\n",
    "\n",
    "- __'\\w'__ = Match any alphanumeric character (equiv. to regex [^a-zA-Z0-9]\n",
    "\n",
    "\n",
    "- __'+'__ = Match one or more of the preceding regex character/code.\n",
    "\n",
    "\n",
    "- __'@'__ = @ sign\n",
    "\n",
    "\n",
    "- __'\\w'__ = Match any alphanumeric\n",
    "\n",
    "\n",
    "- __'+'__ = Match one or more of the preceding regex character/codes\n",
    "\n",
    "\n",
    "- __'\\\\.'__ = A period ('.', which in regex MUST be preceded by the escape character '\\\\')\n",
    "\n",
    "\n",
    "- __'[a-z]{3}'__ = exactly 3 lowercase characters in the range of [a-z].\n",
    "\n",
    "So how might this fail to match to an email address like 'joe.smith@python.net'?\n",
    "\n",
    "- Since we are only pattern matching to alphanumerics prior to the '@' character, this regex will fail to detect any email addresses that contain a '.' separator prior to the '@' character. \n",
    "\n",
    "\n",
    "- Solution: Add a __'\\\\.\\w+'__ to the regex: __'\\w+\\\\.\\w+@\\w+\\\\.[a-z]{3}'__\n",
    "\n",
    "Constructing an effective regex typically requires a fair amount of iterative trial & error effort, e.g., construct what you think will work -> test it -> modify it -> test it again, etc.\n",
    "\n",
    "\n",
    "#### Removing Unwanted Characters From a String\n",
    "\n",
    "Another example: What if we wanted to remove everything __except__ alphanumeric characters from a string?"
   ]
  },
  {
   "cell_type": "code",
   "execution_count": 6,
   "metadata": {},
   "outputs": [
    {
     "name": "stdout",
     "output_type": "stream",
     "text": [
      "RegexExercises4237\n"
     ]
    }
   ],
   "source": [
    "# create a regex to remove non-alphanumerics from a string\n",
    "text2 = '**//Regex Exercises// + 42 - 37:?'\n",
    "\n",
    "# our regex is looking for any non-alphanumeric char: '\\W_' = any non-alphanumeric character \n",
    "# or an undescore\n",
    "pattern = re.compile('[\\W_]+')\n",
    "\n",
    "# now use the regex to find the non alphanumerics. When found, replace them\n",
    "# by placing an empty string '' in their location.\n",
    "# so the call to pattern.sub() is saying: \"replace anything in text2 matching the\n",
    "# regex defined as 'pattern' with an empty string ('').\n",
    "print(pattern.sub('', text2))"
   ]
  },
  {
   "cell_type": "markdown",
   "metadata": {},
   "source": [
    "### Vectorized String Functions in Pandas\n",
    "\n",
    "Pandas has some built-in string manipulation capabilities that allow the user to automatically apply a regex or other string function to each item of a Series or DataFrame column."
   ]
  },
  {
   "cell_type": "code",
   "execution_count": 7,
   "metadata": {},
   "outputs": [
    {
     "data": {
      "text/plain": [
       "Dave     dave@google.com\n",
       "Steve    steve@gmail.com\n",
       "Rob        rob@gmail.com\n",
       "Wes                  NaN\n",
       "dtype: object"
      ]
     },
     "execution_count": 7,
     "metadata": {},
     "output_type": "execute_result"
    }
   ],
   "source": [
    "# import Pandas library\n",
    "import pandas as pd\n",
    "import numpy as np\n",
    "\n",
    "# define some simple data to use\n",
    "data = {'Dave': 'dave@google.com', 'Steve': 'steve@gmail.com',\n",
    "        'Rob': 'rob@gmail.com', 'Wes': np.nan}\n",
    "data = pd.Series(data)\n",
    "data"
   ]
  },
  {
   "cell_type": "code",
   "execution_count": 8,
   "metadata": {},
   "outputs": [
    {
     "data": {
      "text/plain": [
       "Dave     False\n",
       "Steve     True\n",
       "Rob       True\n",
       "Wes        NaN\n",
       "dtype: object"
      ]
     },
     "execution_count": 8,
     "metadata": {},
     "output_type": "execute_result"
    }
   ],
   "source": [
    "# search the 'data' object for the string 'gmail': the result is a boolean\n",
    "# vector\n",
    "data.str.contains('gmail')"
   ]
  },
  {
   "cell_type": "code",
   "execution_count": 30,
   "metadata": {},
   "outputs": [
    {
     "data": {
      "text/plain": [
       "'([A-Z0-9._%+-]+)@([A-Z0-9.-]+)'"
      ]
     },
     "execution_count": 30,
     "metadata": {},
     "output_type": "execute_result"
    }
   ],
   "source": [
    "# define a regex to separate the email user's name from the web domain name\n",
    "pattern = r'([A-Z0-9._%+-]+)@([A-Z0-9.-]+)'\n",
    "pattern"
   ]
  },
  {
   "cell_type": "code",
   "execution_count": 31,
   "metadata": {},
   "outputs": [
    {
     "data": {
      "text/plain": [
       "Dave     [(dave, google.com)]\n",
       "Steve    [(steve, gmail.com)]\n",
       "Rob        [(rob, gmail.com)]\n",
       "Wes                       NaN\n",
       "dtype: object"
      ]
     },
     "execution_count": 31,
     "metadata": {},
     "output_type": "execute_result"
    }
   ],
   "source": [
    "# Use the findall() function to separate each user's email name from the \n",
    "# web domain name\n",
    "data.str.findall(pattern, flags=re.IGNORECASE)"
   ]
  },
  {
   "cell_type": "code",
   "execution_count": 32,
   "metadata": {
    "scrolled": true
   },
   "outputs": [
    {
     "data": {
      "text/html": [
       "<div>\n",
       "<style scoped>\n",
       "    .dataframe tbody tr th:only-of-type {\n",
       "        vertical-align: middle;\n",
       "    }\n",
       "\n",
       "    .dataframe tbody tr th {\n",
       "        vertical-align: top;\n",
       "    }\n",
       "\n",
       "    .dataframe thead th {\n",
       "        text-align: right;\n",
       "    }\n",
       "</style>\n",
       "<table border=\"1\" class=\"dataframe\">\n",
       "  <thead>\n",
       "    <tr style=\"text-align: right;\">\n",
       "      <th></th>\n",
       "      <th>0</th>\n",
       "      <th>1</th>\n",
       "    </tr>\n",
       "  </thead>\n",
       "  <tbody>\n",
       "    <tr>\n",
       "      <th>Dave</th>\n",
       "      <td>dave</td>\n",
       "      <td>google.com</td>\n",
       "    </tr>\n",
       "    <tr>\n",
       "      <th>Steve</th>\n",
       "      <td>steve</td>\n",
       "      <td>gmail.com</td>\n",
       "    </tr>\n",
       "    <tr>\n",
       "      <th>Rob</th>\n",
       "      <td>rob</td>\n",
       "      <td>gmail.com</td>\n",
       "    </tr>\n",
       "    <tr>\n",
       "      <th>Wes</th>\n",
       "      <td>NaN</td>\n",
       "      <td>NaN</td>\n",
       "    </tr>\n",
       "  </tbody>\n",
       "</table>\n",
       "</div>"
      ],
      "text/plain": [
       "           0           1\n",
       "Dave    dave  google.com\n",
       "Steve  steve   gmail.com\n",
       "Rob      rob   gmail.com\n",
       "Wes      NaN         NaN"
      ]
     },
     "execution_count": 32,
     "metadata": {},
     "output_type": "execute_result"
    }
   ],
   "source": [
    "# extract the user name + web domain into separate data frame columns\n",
    "data.str.extract(pattern, flags =re.IGNORECASE)"
   ]
  },
  {
   "cell_type": "code",
   "execution_count": null,
   "metadata": {},
   "outputs": [],
   "source": []
  }
 ],
 "metadata": {
  "kernelspec": {
   "display_name": "Python 3",
   "language": "python",
   "name": "python3"
  },
  "language_info": {
   "codemirror_mode": {
    "name": "ipython",
    "version": 3
   },
   "file_extension": ".py",
   "mimetype": "text/x-python",
   "name": "python",
   "nbconvert_exporter": "python",
   "pygments_lexer": "ipython3",
   "version": "3.7.3"
  }
 },
 "nbformat": 4,
 "nbformat_minor": 2
}
